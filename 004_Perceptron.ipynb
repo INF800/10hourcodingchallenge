{
  "nbformat": 4,
  "nbformat_minor": 0,
  "metadata": {
    "colab": {
      "name": "004-Perceptron.ipynb",
      "provenance": [],
      "authorship_tag": "ABX9TyNcQ+XjCa78JXDP6Fnie2oE",
      "include_colab_link": true
    },
    "kernelspec": {
      "name": "python3",
      "display_name": "Python 3"
    }
  },
  "cells": [
    {
      "cell_type": "markdown",
      "metadata": {
        "id": "view-in-github",
        "colab_type": "text"
      },
      "source": [
        "<a href=\"https://colab.research.google.com/github/rakesh4real/10hourcodingchallenge/blob/master/004_Perceptron.ipynb\" target=\"_parent\"><img src=\"https://colab.research.google.com/assets/colab-badge.svg\" alt=\"Open In Colab\"/></a>"
      ]
    },
    {
      "cell_type": "markdown",
      "metadata": {
        "id": "g-fU6Yjk6G9a",
        "colab_type": "text"
      },
      "source": [
        "### 1. Activation Function\n",
        "\n",
        "Unit step funtion with threshold, $\\tau = 0$\n",
        "\n",
        "$$ \n",
        "g(x) =\n",
        "  \\begin{cases}  \n",
        "  0 & \\text{if $ x < \\tau$} \\\\\n",
        "  1 & \\text{if $x \\leq \\tau$} \\\\\n",
        "  \\end{cases}\n",
        "$$\n",
        "\n",
        "### 2. Prediction\n",
        "\n",
        "$$ \n",
        "f(x) = W^{T}X + b \\\\\n",
        "\\hat{y} = g(f(x)) \n",
        "$$\n",
        "\n",
        "### 3. Update Rule\n",
        "\n",
        "$$ w = w + \\alpha \\cdot (y-\\hat{y}) \\cdot x_i \\\\ $$\n",
        "$$ W = W_{d \\times 1} + {X^{T}}_{d \\times m} \\cdot (Y - \\hat{Y})_{m \\times 1}  $$\n",
        "\n",
        "where $ 0 \\leq \\alpha \\geq 1 $\n",
        "\n",
        "### 4. Intuition ( Binary Classification)\n",
        "\n",
        "| $y$ | $\\hat{y}$ | $(y-\\hat{y})$ | Intuition |\n",
        "|---|---|---|---|\n",
        "| $0$ | $0$ | $0$ | No update according to update rule |\n",
        "| $1$ | $1$ | $0$ | No update according to update rule |\n",
        "| $1$ | $0$ | $+1$ | Acc. to update rule, $w$ will be increased to increase $\\hat{y}$ |\n",
        "| $0$ | $1$ | $-1$ | Acc. to update rule, $w$ will be decreased to decrease $\\hat{y}$ |"
      ]
    }
  ]
}