{
  "nbformat": 4,
  "nbformat_minor": 0,
  "metadata": {
    "colab": {
      "name": "01-MALG-KNN.ipynb",
      "provenance": [],
      "authorship_tag": "ABX9TyPKOZt+eKFHxk+/4Rx7Snnw",
      "include_colab_link": true
    },
    "kernelspec": {
      "name": "python3",
      "display_name": "Python 3"
    }
  },
  "cells": [
    {
      "cell_type": "markdown",
      "metadata": {
        "id": "view-in-github",
        "colab_type": "text"
      },
      "source": [
        "<a href=\"https://colab.research.google.com/github/rakesh4real/10hourcodingchallenge/blob/master/01_MALG_KNN.ipynb\" target=\"_parent\"><img src=\"https://colab.research.google.com/assets/colab-badge.svg\" alt=\"Open In Colab\"/></a>"
      ]
    },
    {
      "cell_type": "code",
      "metadata": {
        "id": "mr7GgMipDfRz",
        "colab_type": "code",
        "colab": {}
      },
      "source": [
        "import numpy as np"
      ],
      "execution_count": 0,
      "outputs": []
    },
    {
      "cell_type": "code",
      "metadata": {
        "id": "6fG9RExiDjk3",
        "colab_type": "code",
        "colab": {}
      },
      "source": [
        "def euclidean_dist(X1, X2):\n",
        "  return np.sqrt(np.sum((X1-X2)**2))"
      ],
      "execution_count": 0,
      "outputs": []
    },
    {
      "cell_type": "code",
      "metadata": {
        "id": "tK4kxiFzFA38",
        "colab_type": "code",
        "outputId": "b508faad-1683-4e1b-deff-086ffbc082b0",
        "colab": {
          "base_uri": "https://localhost:8080/",
          "height": 51
        }
      },
      "source": [
        "print(euclidean_dist(\n",
        "    np.array([20]),\n",
        "    np.array([11])\n",
        "))\n",
        "\n",
        "print(euclidean_dist(\n",
        "    np.array([3, 4]),\n",
        "    np.array([1, 2])\n",
        "))\n"
      ],
      "execution_count": 4,
      "outputs": [
        {
          "output_type": "stream",
          "text": [
            "9.0\n",
            "2.8284271247461903\n"
          ],
          "name": "stdout"
        }
      ]
    },
    {
      "cell_type": "code",
      "metadata": {
        "id": "dVgR8dd2-_vx",
        "colab_type": "code",
        "colab": {}
      },
      "source": [
        "from collections import Counter\n",
        "\n",
        "class KNN:\n",
        "  def __init__(self, k=3, dist_metric=\"euclidean\"):\n",
        "    self.k = k\n",
        "    if dist_metric == \"euclidean\":\n",
        "      self.dist_metric = euclidean_dist\n",
        "\n",
        "  # no training (fitting). Only predicting is involved\n",
        "  # based on training(fit) data \n",
        "  def fit(self, train_X, train_y):\n",
        "    self.X = train_X\n",
        "    self.y = train_y\n",
        "\n",
        "  def predict(self, test_X):\n",
        "      return [self._predict(test_x) for test_x in test_X]\n",
        "    \n",
        "  def _predict(self,test_x):\n",
        "    # 1. calculate all distances\n",
        "    distances = [self.dist_metric(test_x, train_x) for train_x in self.X]\n",
        "    # 2. get indices of top k distances\n",
        "    top_k_dists_indices = np.argsort(distances)[:self.k]\n",
        "    # 3. based on ys from training set, get \n",
        "    # most common votes\n",
        "    top_k_ys = [self.y[i] for i in top_k_dists_indices]\n",
        "    return Counter(top_k_ys).most_common(1)\n",
        "  "
      ],
      "execution_count": 0,
      "outputs": []
    },
    {
      "cell_type": "code",
      "metadata": {
        "id": "C11Ef11_JWxy",
        "colab_type": "code",
        "colab": {}
      },
      "source": [
        "from sklearn import datasets\n",
        "from sklearn.model_selection import train_test_split\n",
        "\n",
        "iris = datasets.load_iris()\n",
        "X, y = iris.data, iris.target\n",
        "X_train, y_train, y_train, y_test = train_test_split(X, y, test_size=0.2, random_state = 1234)"
      ],
      "execution_count": 0,
      "outputs": []
    },
    {
      "cell_type": "code",
      "metadata": {
        "id": "c0awOi1-tsbp",
        "colab_type": "code",
        "colab": {
          "base_uri": "https://localhost:8080/",
          "height": 1000
        },
        "outputId": "d2830a4f-38ae-416b-ff3c-59e3f0346b94"
      },
      "source": [
        "clf = KNN(k=3)\n",
        "\n",
        "clf.fit(X_train, y_train)\n",
        "preds = clf.predict(X_test)\n",
        "\n",
        "\n",
        "preds"
      ],
      "execution_count": 58,
      "outputs": [
        {
          "output_type": "execute_result",
          "data": {
            "text/plain": [
              "[[(0, 3)],\n",
              " [(0, 3)],\n",
              " [(0, 3)],\n",
              " [(0, 3)],\n",
              " [(0, 3)],\n",
              " [(0, 3)],\n",
              " [(0, 3)],\n",
              " [(0, 3)],\n",
              " [(0, 3)],\n",
              " [(0, 3)],\n",
              " [(0, 3)],\n",
              " [(0, 3)],\n",
              " [(0, 3)],\n",
              " [(0, 3)],\n",
              " [(0, 3)],\n",
              " [(0, 3)],\n",
              " [(0, 3)],\n",
              " [(0, 3)],\n",
              " [(0, 3)],\n",
              " [(0, 3)],\n",
              " [(0, 3)],\n",
              " [(0, 3)],\n",
              " [(0, 3)],\n",
              " [(0, 3)],\n",
              " [(0, 3)],\n",
              " [(0, 3)],\n",
              " [(0, 3)],\n",
              " [(0, 3)],\n",
              " [(0, 3)],\n",
              " [(0, 3)],\n",
              " [(0, 3)],\n",
              " [(0, 3)],\n",
              " [(0, 3)],\n",
              " [(0, 3)],\n",
              " [(0, 3)],\n",
              " [(0, 3)],\n",
              " [(0, 3)],\n",
              " [(0, 3)],\n",
              " [(0, 3)],\n",
              " [(0, 3)],\n",
              " [(0, 3)],\n",
              " [(0, 3)],\n",
              " [(0, 3)],\n",
              " [(0, 3)],\n",
              " [(0, 3)],\n",
              " [(0, 3)],\n",
              " [(0, 3)],\n",
              " [(0, 3)],\n",
              " [(0, 3)],\n",
              " [(0, 3)],\n",
              " [(0, 3)],\n",
              " [(0, 3)],\n",
              " [(0, 3)],\n",
              " [(0, 3)],\n",
              " [(0, 3)],\n",
              " [(0, 3)],\n",
              " [(0, 3)],\n",
              " [(0, 3)],\n",
              " [(0, 3)],\n",
              " [(0, 3)],\n",
              " [(0, 3)],\n",
              " [(0, 3)],\n",
              " [(0, 3)],\n",
              " [(0, 3)],\n",
              " [(0, 3)],\n",
              " [(0, 3)],\n",
              " [(0, 3)],\n",
              " [(0, 3)],\n",
              " [(0, 3)],\n",
              " [(0, 3)],\n",
              " [(0, 3)],\n",
              " [(0, 3)],\n",
              " [(0, 3)],\n",
              " [(0, 3)],\n",
              " [(0, 3)],\n",
              " [(0, 3)],\n",
              " [(0, 3)],\n",
              " [(0, 3)],\n",
              " [(0, 3)],\n",
              " [(0, 3)],\n",
              " [(0, 3)],\n",
              " [(0, 3)],\n",
              " [(0, 3)],\n",
              " [(0, 3)],\n",
              " [(0, 3)],\n",
              " [(0, 3)],\n",
              " [(0, 3)],\n",
              " [(0, 3)],\n",
              " [(0, 3)],\n",
              " [(0, 3)],\n",
              " [(0, 3)],\n",
              " [(0, 3)],\n",
              " [(0, 3)],\n",
              " [(0, 3)],\n",
              " [(0, 3)],\n",
              " [(0, 3)],\n",
              " [(0, 3)],\n",
              " [(0, 3)],\n",
              " [(0, 3)],\n",
              " [(0, 3)],\n",
              " [(0, 3)],\n",
              " [(0, 3)],\n",
              " [(0, 3)],\n",
              " [(0, 3)],\n",
              " [(0, 3)],\n",
              " [(0, 3)],\n",
              " [(0, 3)],\n",
              " [(0, 3)],\n",
              " [(0, 3)],\n",
              " [(0, 3)],\n",
              " [(0, 3)],\n",
              " [(0, 3)],\n",
              " [(0, 3)],\n",
              " [(0, 3)],\n",
              " [(0, 3)],\n",
              " [(0, 3)],\n",
              " [(0, 3)],\n",
              " [(0, 3)],\n",
              " [(0, 3)],\n",
              " [(0, 3)]]"
            ]
          },
          "metadata": {
            "tags": []
          },
          "execution_count": 58
        }
      ]
    },
    {
      "cell_type": "code",
      "metadata": {
        "id": "qSAGSV_503Ol",
        "colab_type": "code",
        "colab": {
          "base_uri": "https://localhost:8080/",
          "height": 71
        },
        "outputId": "64eea633-de76-4af2-8877-4f686fe143cc"
      },
      "source": [
        "y_test"
      ],
      "execution_count": 59,
      "outputs": [
        {
          "output_type": "execute_result",
          "data": {
            "text/plain": [
              "array([1, 1, 2, 0, 1, 0, 0, 0, 1, 2, 1, 0, 2, 1, 0, 1, 2, 0, 2, 1, 1, 1,\n",
              "       1, 1, 2, 0, 2, 1, 2, 0])"
            ]
          },
          "metadata": {
            "tags": []
          },
          "execution_count": 59
        }
      ]
    }
  ]
}