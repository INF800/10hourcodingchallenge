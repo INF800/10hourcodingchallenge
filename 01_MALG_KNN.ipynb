{
  "nbformat": 4,
  "nbformat_minor": 0,
  "metadata": {
    "colab": {
      "name": "01-MALG-KNN.ipynb",
      "provenance": [],
      "authorship_tag": "ABX9TyM+Bhafi7HFW5p0MblT5eyE",
      "include_colab_link": true
    },
    "kernelspec": {
      "name": "python3",
      "display_name": "Python 3"
    }
  },
  "cells": [
    {
      "cell_type": "markdown",
      "metadata": {
        "id": "view-in-github",
        "colab_type": "text"
      },
      "source": [
        "<a href=\"https://colab.research.google.com/github/rakesh4real/10hourcodingchallenge/blob/master/01_MALG_KNN.ipynb\" target=\"_parent\"><img src=\"https://colab.research.google.com/assets/colab-badge.svg\" alt=\"Open In Colab\"/></a>"
      ]
    },
    {
      "cell_type": "code",
      "metadata": {
        "id": "mr7GgMipDfRz",
        "colab_type": "code",
        "colab": {}
      },
      "source": [
        "import numpy as np"
      ],
      "execution_count": 0,
      "outputs": []
    },
    {
      "cell_type": "code",
      "metadata": {
        "id": "6fG9RExiDjk3",
        "colab_type": "code",
        "colab": {}
      },
      "source": [
        "def euclidean_dist(X1, X2):\n",
        "  return np.sqrt(np.sum((X1-X2)**2))"
      ],
      "execution_count": 0,
      "outputs": []
    },
    {
      "cell_type": "code",
      "metadata": {
        "id": "tK4kxiFzFA38",
        "colab_type": "code",
        "outputId": "3445141a-d686-42a8-a2f9-1ac6eaa79b8b",
        "colab": {
          "base_uri": "https://localhost:8080/",
          "height": 51
        }
      },
      "source": [
        "print(euclidean_dist(\n",
        "    np.array([20]),\n",
        "    np.array([11])\n",
        "))\n",
        "\n",
        "print(euclidean_dist(\n",
        "    np.array([3, 4]),\n",
        "    np.array([1, 2])\n",
        "))\n"
      ],
      "execution_count": 3,
      "outputs": [
        {
          "output_type": "stream",
          "text": [
            "9.0\n",
            "2.8284271247461903\n"
          ],
          "name": "stdout"
        }
      ]
    },
    {
      "cell_type": "code",
      "metadata": {
        "id": "dVgR8dd2-_vx",
        "colab_type": "code",
        "colab": {}
      },
      "source": [
        "from collections import Counter\n",
        "\n",
        "class KNN:\n",
        "  def __init__(self, k=3, dist_metric=\"euclidean\"):\n",
        "    self.k = k\n",
        "    if dist_metric == \"euclidean\":\n",
        "      self.dist_metric = euclidean_dist\n",
        "\n",
        "  # no training (fitting). Only predicting is involved\n",
        "  # based on training(fit) data \n",
        "  def fit(self, train_X, train_y):\n",
        "    self.X = train_X\n",
        "    self.y = train_y\n",
        "\n",
        "  def predict(self, test_X):\n",
        "      return [self._predict(test_x) for test_x in test_X]\n",
        "    \n",
        "  def _predict(self,test_x):\n",
        "    # 1. calculate all distances\n",
        "    distances = [self.dist_metric(test_x, train_x) for train_x in self.X]\n",
        "    # 2. get indices of top k distances\n",
        "    top_k_dists_indices = np.argsort(distances)[:self.k]\n",
        "    # 3. based on ys from training set, get \n",
        "    # most common votes\n",
        "    top_k_ys = [self.y[i] for i in top_k_dists_indices]\n",
        "    return Counter(top_k_ys).most_common(1)[0][0]\n",
        "  "
      ],
      "execution_count": 0,
      "outputs": []
    },
    {
      "cell_type": "code",
      "metadata": {
        "id": "C11Ef11_JWxy",
        "colab_type": "code",
        "colab": {
          "base_uri": "https://localhost:8080/",
          "height": 85
        },
        "outputId": "e78f0b18-349d-4721-d412-e15067cb3cd7"
      },
      "source": [
        "from sklearn import datasets\n",
        "from sklearn.model_selection import train_test_split\n",
        "\n",
        "iris = datasets.load_iris()\n",
        "X, y = iris.data, iris.target\n",
        "X_train, X_test, y_train, y_test = train_test_split(X, y, test_size=0.2, random_state = 1234)\n",
        "\n",
        "print(X_train.shape)\n",
        "print(y_train.shape)\n",
        "print(X_test.shape)\n",
        "print(y_test.shape)"
      ],
      "execution_count": 5,
      "outputs": [
        {
          "output_type": "stream",
          "text": [
            "(120, 4)\n",
            "(120,)\n",
            "(30, 4)\n",
            "(30,)\n"
          ],
          "name": "stdout"
        }
      ]
    },
    {
      "cell_type": "code",
      "metadata": {
        "id": "c0awOi1-tsbp",
        "colab_type": "code",
        "outputId": "85a3d56e-a060-436f-8614-6ec489746e80",
        "colab": {
          "base_uri": "https://localhost:8080/",
          "height": 34
        }
      },
      "source": [
        "clf = KNN(k=3)\n",
        "\n",
        "clf.fit(X_train, y_train)\n",
        "preds = clf.predict(X_test)\n",
        "\n",
        "clf_acc = np.sum(preds == y_test) / len(y_test)\n",
        "print(clf_acc)"
      ],
      "execution_count": 6,
      "outputs": [
        {
          "output_type": "stream",
          "text": [
            "1.0\n"
          ],
          "name": "stdout"
        }
      ]
    },
    {
      "cell_type": "code",
      "metadata": {
        "id": "qSAGSV_503Ol",
        "colab_type": "code",
        "outputId": "c50e9f91-d643-4ad7-dba3-29353f8ac30b",
        "colab": {
          "base_uri": "https://localhost:8080/",
          "height": 34
        }
      },
      "source": [
        "clf = KNN(k=5)\n",
        "\n",
        "clf.fit(X_train, y_train)\n",
        "preds = clf.predict(X_test)\n",
        "\n",
        "clf_acc = np.sum(preds == y_test) / len(y_test)\n",
        "print(clf_acc)"
      ],
      "execution_count": 7,
      "outputs": [
        {
          "output_type": "stream",
          "text": [
            "0.9666666666666667\n"
          ],
          "name": "stdout"
        }
      ]
    },
    {
      "cell_type": "markdown",
      "metadata": {
        "id": "U1oFE-NrZkai",
        "colab_type": "text"
      },
      "source": [
        "### KNN Regression"
      ]
    },
    {
      "cell_type": "code",
      "metadata": {
        "id": "hXvgjJcPaGXc",
        "colab_type": "code",
        "colab": {}
      },
      "source": [
        "class KNNRegression(KNN):\n",
        "  def _predict(self,test_x):\n",
        "    # 1. calculate all distances\n",
        "    distances = [self.dist_metric(test_x, train_x) for train_x in self.X]\n",
        "    # 2. get indices of top k distances\n",
        "    top_k_dists_indices = np.argsort(distances)[:self.k]\n",
        "    # 3. based on ys from training set, get \n",
        "    # most common votes\n",
        "    top_k_ys = [self.y[i] for i in top_k_dists_indices]\n",
        "    return np.mean(top_k_ys) # ONLY CHANGE"
      ],
      "execution_count": 0,
      "outputs": []
    },
    {
      "cell_type": "code",
      "metadata": {
        "id": "1wyGtq2vciuj",
        "colab_type": "code",
        "colab": {
          "base_uri": "https://localhost:8080/",
          "height": 85
        },
        "outputId": "39c27d74-e629-4858-aada-910a37e860a8"
      },
      "source": [
        "from sklearn import datasets\n",
        "from sklearn.model_selection import train_test_split\n",
        "\n",
        "boston = datasets.load_boston()\n",
        "X, y = boston.data, boston.target\n",
        "X_train, X_test, y_train, y_test = train_test_split(X, y, test_size=0.2, random_state = 1234)\n",
        "\n",
        "print(X_train.shape)\n",
        "print(y_train.shape)\n",
        "print(X_test.shape)\n",
        "print(y_test.shape)"
      ],
      "execution_count": 9,
      "outputs": [
        {
          "output_type": "stream",
          "text": [
            "(404, 13)\n",
            "(404,)\n",
            "(102, 13)\n",
            "(102,)\n"
          ],
          "name": "stdout"
        }
      ]
    },
    {
      "cell_type": "code",
      "metadata": {
        "id": "2bm7Amjnc5g0",
        "colab_type": "code",
        "colab": {
          "base_uri": "https://localhost:8080/",
          "height": 34
        },
        "outputId": "74f63995-942d-47c6-bf8e-67dcd7f8ecc4"
      },
      "source": [
        "clf = KNNRegression(k=3)\n",
        "\n",
        "clf.fit(X_train, y_train)\n",
        "preds = clf.predict(X_test)\n",
        "\n",
        "\n",
        "mse = np.sqrt(np.sum((preds-y_test)**2))\n",
        "print(mse)"
      ],
      "execution_count": 14,
      "outputs": [
        {
          "output_type": "stream",
          "text": [
            "70.7194299876475\n"
          ],
          "name": "stdout"
        }
      ]
    },
    {
      "cell_type": "code",
      "metadata": {
        "id": "bvlJqk7Cdmcp",
        "colab_type": "code",
        "colab": {
          "base_uri": "https://localhost:8080/",
          "height": 34
        },
        "outputId": "0418f808-dc51-4cdc-883d-e2b146356477"
      },
      "source": [
        "clf = KNNRegression(k=5)\n",
        "\n",
        "clf.fit(X_train, y_train)\n",
        "preds = clf.predict(X_test)\n",
        "\n",
        "\n",
        "mse = np.sqrt(np.sum((preds-y_test)**2))\n",
        "print(mse)"
      ],
      "execution_count": 15,
      "outputs": [
        {
          "output_type": "stream",
          "text": [
            "68.06769571536852\n"
          ],
          "name": "stdout"
        }
      ]
    },
    {
      "cell_type": "code",
      "metadata": {
        "id": "rAN1SfGHdw32",
        "colab_type": "code",
        "colab": {
          "base_uri": "https://localhost:8080/",
          "height": 275
        },
        "outputId": "c43d1acd-8ee0-4e4b-9509-d5bfbe86f123"
      },
      "source": [
        "hist = []\n",
        "for k_val in range(0,10):\n",
        "  clf = KNNRegression(k=k_val)\n",
        "  clf.fit(X_train, y_train)\n",
        "  preds = clf.predict(X_test)\n",
        "  mse = np.sqrt(np.sum((preds-y_test)**2))\n",
        "  hist.append((k_val, mse))\n",
        "  print(f\"{k_val}: {mse}\")"
      ],
      "execution_count": 17,
      "outputs": [
        {
          "output_type": "stream",
          "text": [
            "/usr/local/lib/python3.6/dist-packages/numpy/core/fromnumeric.py:3335: RuntimeWarning: Mean of empty slice.\n",
            "  out=out, **kwargs)\n",
            "/usr/local/lib/python3.6/dist-packages/numpy/core/_methods.py:161: RuntimeWarning: invalid value encountered in double_scalars\n",
            "  ret = ret.dtype.type(ret / rcount)\n"
          ],
          "name": "stderr"
        },
        {
          "output_type": "stream",
          "text": [
            "0: nan\n",
            "1: 70.15140768366662\n",
            "2: 75.90307964766647\n",
            "3: 70.7194299876475\n",
            "4: 67.5550932572815\n",
            "5: 68.06769571536852\n",
            "6: 67.45612977665148\n",
            "7: 70.30415118234049\n",
            "8: 72.08698088073878\n",
            "9: 71.92533251080681\n"
          ],
          "name": "stdout"
        }
      ]
    }
  ]
}